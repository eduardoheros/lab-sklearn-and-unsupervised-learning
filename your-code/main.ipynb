{
  "nbformat": 4,
  "nbformat_minor": 0,
  "metadata": {
    "kernelspec": {
      "display_name": "Python 3",
      "language": "python",
      "name": "python3"
    },
    "language_info": {
      "codemirror_mode": {
        "name": "ipython",
        "version": 3
      },
      "file_extension": ".py",
      "mimetype": "text/x-python",
      "name": "python",
      "nbconvert_exporter": "python",
      "pygments_lexer": "ipython3",
      "version": "3.7.1"
    },
    "colab": {
      "name": "main.ipynb",
      "provenance": []
    }
  },
  "cells": [
    {
      "cell_type": "markdown",
      "metadata": {
        "id": "kLcl6C-atwML",
        "colab_type": "text"
      },
      "source": [
        "# Before your start:\n",
        "- Read the README.md file\n",
        "- Comment as much as you can and use the resources in the README.md file\n",
        "- Happy learning!\n"
      ]
    },
    {
      "cell_type": "code",
      "metadata": {
        "id": "26E1g-ydtwMN",
        "colab_type": "code",
        "colab": {}
      },
      "source": [
        "import numpy as np\n",
        "import pandas as pd"
      ],
      "execution_count": 10,
      "outputs": []
    },
    {
      "cell_type": "markdown",
      "metadata": {
        "id": "P0Bf_O1PtwMR",
        "colab_type": "text"
      },
      "source": [
        "# Challenge 1 -  Explore the Internal Dataset\n",
        "\n",
        "In this lab, we will start off by working with the wine dataset in scikit-learn. We will select the wine dataset and use a clustering algorithm to learn more about the functionalities of this library. \n",
        "\n",
        "We start off by loading the dataset using the `load_wine` function ([documentation](https://scikit-learn.org/stable/modules/generated/sklearn.datasets.load_wine.html)). In the cell below, we will import the function from scikit-learn."
      ]
    },
    {
      "cell_type": "code",
      "metadata": {
        "id": "VR2t_GwBtwMS",
        "colab_type": "code",
        "colab": {}
      },
      "source": [
        "from sklearn.datasets import load_wine"
      ],
      "execution_count": 1,
      "outputs": []
    },
    {
      "cell_type": "markdown",
      "metadata": {
        "id": "6VlZrDlCtwMV",
        "colab_type": "text"
      },
      "source": [
        "In the cell below, use the `load_wine` function and assign the wine dataset to a variable called `wine`."
      ]
    },
    {
      "cell_type": "code",
      "metadata": {
        "id": "vYVrBFD7twMV",
        "colab_type": "code",
        "colab": {}
      },
      "source": [
        "wine=load_wine()"
      ],
      "execution_count": 80,
      "outputs": []
    },
    {
      "cell_type": "markdown",
      "metadata": {
        "id": "9-cBAKSStwMZ",
        "colab_type": "text"
      },
      "source": [
        "In the next step, list the keys of the variable `wine` to examine its contents. Note that the `load_wine` function does not return dataframes. It returns you a Python dictionary."
      ]
    },
    {
      "cell_type": "code",
      "metadata": {
        "id": "6nAVs8LrtwMZ",
        "colab_type": "code",
        "colab": {
          "base_uri": "https://localhost:8080/",
          "height": 34
        },
        "outputId": "225c3519-6b52-4870-9f11-96577a7bf800"
      },
      "source": [
        "wine.keys()"
      ],
      "execution_count": 75,
      "outputs": [
        {
          "output_type": "execute_result",
          "data": {
            "text/plain": [
              "dict_keys(['data', 'target', 'target_names', 'DESCR', 'feature_names'])"
            ]
          },
          "metadata": {
            "tags": []
          },
          "execution_count": 75
        }
      ]
    },
    {
      "cell_type": "markdown",
      "metadata": {
        "id": "68pOS2BXtwMc",
        "colab_type": "text"
      },
      "source": [
        "Next, list the feature names. These are the different characteristics of the wine. "
      ]
    },
    {
      "cell_type": "code",
      "metadata": {
        "id": "MuZW1CdLtwMd",
        "colab_type": "code",
        "colab": {
          "base_uri": "https://localhost:8080/",
          "height": 238
        },
        "outputId": "77d44f7e-c632-4c83-caba-0c18025976f8"
      },
      "source": [
        "wine.feature_names"
      ],
      "execution_count": 76,
      "outputs": [
        {
          "output_type": "execute_result",
          "data": {
            "text/plain": [
              "['alcohol',\n",
              " 'malic_acid',\n",
              " 'ash',\n",
              " 'alcalinity_of_ash',\n",
              " 'magnesium',\n",
              " 'total_phenols',\n",
              " 'flavanoids',\n",
              " 'nonflavanoid_phenols',\n",
              " 'proanthocyanins',\n",
              " 'color_intensity',\n",
              " 'hue',\n",
              " 'od280/od315_of_diluted_wines',\n",
              " 'proline']"
            ]
          },
          "metadata": {
            "tags": []
          },
          "execution_count": 76
        }
      ]
    },
    {
      "cell_type": "markdown",
      "metadata": {
        "id": "2hMKJGWEtwMf",
        "colab_type": "text"
      },
      "source": [
        "Print the description of the dataset in the cell below using the `DESCR` attribute of the `wine` variable.\n",
        "\n",
        "*Hint: If your output is ill-formatted by displaying linebreaks as `\\n`, it means you are not using the print function.*"
      ]
    },
    {
      "cell_type": "code",
      "metadata": {
        "id": "fMpZ3T3ttwMg",
        "colab_type": "code",
        "colab": {
          "base_uri": "https://localhost:8080/",
          "height": 1000
        },
        "outputId": "24561d54-257c-47e8-b3b0-96cd6c6c1a50"
      },
      "source": [
        "print(wine.DESCR)"
      ],
      "execution_count": 9,
      "outputs": [
        {
          "output_type": "stream",
          "text": [
            ".. _wine_dataset:\n",
            "\n",
            "Wine recognition dataset\n",
            "------------------------\n",
            "\n",
            "**Data Set Characteristics:**\n",
            "\n",
            "    :Number of Instances: 178 (50 in each of three classes)\n",
            "    :Number of Attributes: 13 numeric, predictive attributes and the class\n",
            "    :Attribute Information:\n",
            " \t\t- Alcohol\n",
            " \t\t- Malic acid\n",
            " \t\t- Ash\n",
            "\t\t- Alcalinity of ash  \n",
            " \t\t- Magnesium\n",
            "\t\t- Total phenols\n",
            " \t\t- Flavanoids\n",
            " \t\t- Nonflavanoid phenols\n",
            " \t\t- Proanthocyanins\n",
            "\t\t- Color intensity\n",
            " \t\t- Hue\n",
            " \t\t- OD280/OD315 of diluted wines\n",
            " \t\t- Proline\n",
            "\n",
            "    - class:\n",
            "            - class_0\n",
            "            - class_1\n",
            "            - class_2\n",
            "\t\t\n",
            "    :Summary Statistics:\n",
            "    \n",
            "    ============================= ==== ===== ======= =====\n",
            "                                   Min   Max   Mean     SD\n",
            "    ============================= ==== ===== ======= =====\n",
            "    Alcohol:                      11.0  14.8    13.0   0.8\n",
            "    Malic Acid:                   0.74  5.80    2.34  1.12\n",
            "    Ash:                          1.36  3.23    2.36  0.27\n",
            "    Alcalinity of Ash:            10.6  30.0    19.5   3.3\n",
            "    Magnesium:                    70.0 162.0    99.7  14.3\n",
            "    Total Phenols:                0.98  3.88    2.29  0.63\n",
            "    Flavanoids:                   0.34  5.08    2.03  1.00\n",
            "    Nonflavanoid Phenols:         0.13  0.66    0.36  0.12\n",
            "    Proanthocyanins:              0.41  3.58    1.59  0.57\n",
            "    Colour Intensity:              1.3  13.0     5.1   2.3\n",
            "    Hue:                          0.48  1.71    0.96  0.23\n",
            "    OD280/OD315 of diluted wines: 1.27  4.00    2.61  0.71\n",
            "    Proline:                       278  1680     746   315\n",
            "    ============================= ==== ===== ======= =====\n",
            "\n",
            "    :Missing Attribute Values: None\n",
            "    :Class Distribution: class_0 (59), class_1 (71), class_2 (48)\n",
            "    :Creator: R.A. Fisher\n",
            "    :Donor: Michael Marshall (MARSHALL%PLU@io.arc.nasa.gov)\n",
            "    :Date: July, 1988\n",
            "\n",
            "This is a copy of UCI ML Wine recognition datasets.\n",
            "https://archive.ics.uci.edu/ml/machine-learning-databases/wine/wine.data\n",
            "\n",
            "The data is the results of a chemical analysis of wines grown in the same\n",
            "region in Italy by three different cultivators. There are thirteen different\n",
            "measurements taken for different constituents found in the three types of\n",
            "wine.\n",
            "\n",
            "Original Owners: \n",
            "\n",
            "Forina, M. et al, PARVUS - \n",
            "An Extendible Package for Data Exploration, Classification and Correlation. \n",
            "Institute of Pharmaceutical and Food Analysis and Technologies,\n",
            "Via Brigata Salerno, 16147 Genoa, Italy.\n",
            "\n",
            "Citation:\n",
            "\n",
            "Lichman, M. (2013). UCI Machine Learning Repository\n",
            "[https://archive.ics.uci.edu/ml]. Irvine, CA: University of California,\n",
            "School of Information and Computer Science. \n",
            "\n",
            ".. topic:: References\n",
            "\n",
            "  (1) S. Aeberhard, D. Coomans and O. de Vel, \n",
            "  Comparison of Classifiers in High Dimensional Settings, \n",
            "  Tech. Rep. no. 92-02, (1992), Dept. of Computer Science and Dept. of  \n",
            "  Mathematics and Statistics, James Cook University of North Queensland. \n",
            "  (Also submitted to Technometrics). \n",
            "\n",
            "  The data was used with many others for comparing various \n",
            "  classifiers. The classes are separable, though only RDA \n",
            "  has achieved 100% correct classification. \n",
            "  (RDA : 100%, QDA 99.4%, LDA 98.9%, 1NN 96.1% (z-transformed data)) \n",
            "  (All results using the leave-one-out technique) \n",
            "\n",
            "  (2) S. Aeberhard, D. Coomans and O. de Vel, \n",
            "  \"THE CLASSIFICATION PERFORMANCE OF RDA\" \n",
            "  Tech. Rep. no. 92-01, (1992), Dept. of Computer Science and Dept. of \n",
            "  Mathematics and Statistics, James Cook University of North Queensland. \n",
            "  (Also submitted to Journal of Chemometrics).\n",
            "\n"
          ],
          "name": "stdout"
        }
      ]
    },
    {
      "cell_type": "markdown",
      "metadata": {
        "id": "nWtKUBAjtwMk",
        "colab_type": "text"
      },
      "source": [
        "#### From the description, we see that all columns are numeric. We also know that there is no missing data \n",
        "\n",
        "Let's plot the alcohol content histogram. Recall that we are working with a numpy array and will need to use a matplotlib function to produce a histogram. "
      ]
    },
    {
      "cell_type": "code",
      "metadata": {
        "id": "Ch6mika4twMn",
        "colab_type": "code",
        "colab": {}
      },
      "source": [
        "import matplotlib.pyplot as plt"
      ],
      "execution_count": 11,
      "outputs": []
    },
    {
      "cell_type": "code",
      "metadata": {
        "id": "iOgdK8b3twMq",
        "colab_type": "code",
        "colab": {
          "base_uri": "https://localhost:8080/",
          "height": 34
        },
        "outputId": "137f7f3f-1cca-4b73-a532-2a6fb8346ed2"
      },
      "source": [
        "wine.data.shape"
      ],
      "execution_count": 18,
      "outputs": [
        {
          "output_type": "execute_result",
          "data": {
            "text/plain": [
              "(178, 13)"
            ]
          },
          "metadata": {
            "tags": []
          },
          "execution_count": 18
        }
      ]
    },
    {
      "cell_type": "code",
      "metadata": {
        "id": "gTO8Yfi-0vEI",
        "colab_type": "code",
        "colab": {
          "base_uri": "https://localhost:8080/",
          "height": 204
        },
        "outputId": "68d7a690-965b-4fdd-b8db-de00dabff0ec"
      },
      "source": [
        "wine_data=pd.DataFrame(wine.data)\n",
        "wine_data.columns=wine.feature_names\n",
        "wine_data.head()"
      ],
      "execution_count": 81,
      "outputs": [
        {
          "output_type": "execute_result",
          "data": {
            "text/html": [
              "<div>\n",
              "<style scoped>\n",
              "    .dataframe tbody tr th:only-of-type {\n",
              "        vertical-align: middle;\n",
              "    }\n",
              "\n",
              "    .dataframe tbody tr th {\n",
              "        vertical-align: top;\n",
              "    }\n",
              "\n",
              "    .dataframe thead th {\n",
              "        text-align: right;\n",
              "    }\n",
              "</style>\n",
              "<table border=\"1\" class=\"dataframe\">\n",
              "  <thead>\n",
              "    <tr style=\"text-align: right;\">\n",
              "      <th></th>\n",
              "      <th>alcohol</th>\n",
              "      <th>malic_acid</th>\n",
              "      <th>ash</th>\n",
              "      <th>alcalinity_of_ash</th>\n",
              "      <th>magnesium</th>\n",
              "      <th>total_phenols</th>\n",
              "      <th>flavanoids</th>\n",
              "      <th>nonflavanoid_phenols</th>\n",
              "      <th>proanthocyanins</th>\n",
              "      <th>color_intensity</th>\n",
              "      <th>hue</th>\n",
              "      <th>od280/od315_of_diluted_wines</th>\n",
              "      <th>proline</th>\n",
              "    </tr>\n",
              "  </thead>\n",
              "  <tbody>\n",
              "    <tr>\n",
              "      <th>0</th>\n",
              "      <td>14.23</td>\n",
              "      <td>1.71</td>\n",
              "      <td>2.43</td>\n",
              "      <td>15.6</td>\n",
              "      <td>127.0</td>\n",
              "      <td>2.80</td>\n",
              "      <td>3.06</td>\n",
              "      <td>0.28</td>\n",
              "      <td>2.29</td>\n",
              "      <td>5.64</td>\n",
              "      <td>1.04</td>\n",
              "      <td>3.92</td>\n",
              "      <td>1065.0</td>\n",
              "    </tr>\n",
              "    <tr>\n",
              "      <th>1</th>\n",
              "      <td>13.20</td>\n",
              "      <td>1.78</td>\n",
              "      <td>2.14</td>\n",
              "      <td>11.2</td>\n",
              "      <td>100.0</td>\n",
              "      <td>2.65</td>\n",
              "      <td>2.76</td>\n",
              "      <td>0.26</td>\n",
              "      <td>1.28</td>\n",
              "      <td>4.38</td>\n",
              "      <td>1.05</td>\n",
              "      <td>3.40</td>\n",
              "      <td>1050.0</td>\n",
              "    </tr>\n",
              "    <tr>\n",
              "      <th>2</th>\n",
              "      <td>13.16</td>\n",
              "      <td>2.36</td>\n",
              "      <td>2.67</td>\n",
              "      <td>18.6</td>\n",
              "      <td>101.0</td>\n",
              "      <td>2.80</td>\n",
              "      <td>3.24</td>\n",
              "      <td>0.30</td>\n",
              "      <td>2.81</td>\n",
              "      <td>5.68</td>\n",
              "      <td>1.03</td>\n",
              "      <td>3.17</td>\n",
              "      <td>1185.0</td>\n",
              "    </tr>\n",
              "    <tr>\n",
              "      <th>3</th>\n",
              "      <td>14.37</td>\n",
              "      <td>1.95</td>\n",
              "      <td>2.50</td>\n",
              "      <td>16.8</td>\n",
              "      <td>113.0</td>\n",
              "      <td>3.85</td>\n",
              "      <td>3.49</td>\n",
              "      <td>0.24</td>\n",
              "      <td>2.18</td>\n",
              "      <td>7.80</td>\n",
              "      <td>0.86</td>\n",
              "      <td>3.45</td>\n",
              "      <td>1480.0</td>\n",
              "    </tr>\n",
              "    <tr>\n",
              "      <th>4</th>\n",
              "      <td>13.24</td>\n",
              "      <td>2.59</td>\n",
              "      <td>2.87</td>\n",
              "      <td>21.0</td>\n",
              "      <td>118.0</td>\n",
              "      <td>2.80</td>\n",
              "      <td>2.69</td>\n",
              "      <td>0.39</td>\n",
              "      <td>1.82</td>\n",
              "      <td>4.32</td>\n",
              "      <td>1.04</td>\n",
              "      <td>2.93</td>\n",
              "      <td>735.0</td>\n",
              "    </tr>\n",
              "  </tbody>\n",
              "</table>\n",
              "</div>"
            ],
            "text/plain": [
              "   alcohol  malic_acid   ash  ...   hue  od280/od315_of_diluted_wines  proline\n",
              "0    14.23        1.71  2.43  ...  1.04                          3.92   1065.0\n",
              "1    13.20        1.78  2.14  ...  1.05                          3.40   1050.0\n",
              "2    13.16        2.36  2.67  ...  1.03                          3.17   1185.0\n",
              "3    14.37        1.95  2.50  ...  0.86                          3.45   1480.0\n",
              "4    13.24        2.59  2.87  ...  1.04                          2.93    735.0\n",
              "\n",
              "[5 rows x 13 columns]"
            ]
          },
          "metadata": {
            "tags": []
          },
          "execution_count": 81
        }
      ]
    },
    {
      "cell_type": "code",
      "metadata": {
        "id": "XQQOnkpR1hra",
        "colab_type": "code",
        "colab": {
          "base_uri": "https://localhost:8080/",
          "height": 265
        },
        "outputId": "377155d2-f6b3-46d9-e779-b7828dad8d81"
      },
      "source": [
        "plt.style.use(\"ggplot\")\n",
        "wine_data.alcohol.hist(bins=20);"
      ],
      "execution_count": 39,
      "outputs": [
        {
          "output_type": "display_data",
          "data": {
            "image/png": "[encoded data removed]",
            "text/plain": [
              "<Figure size 432x288 with 1 Axes>"
            ]
          },
          "metadata": {
            "tags": []
          }
        }
      ]
    },
    {
      "cell_type": "markdown",
      "metadata": {
        "id": "TWLkULp0twMs",
        "colab_type": "text"
      },
      "source": [
        "# Challenge 2 - Clustering the Internal Dataset\n",
        "\n",
        "In this portion of the lab, we will cluster the data to find common traits between the different wines. We will use the k-means clustering algorithm to achieve this goal.\n",
        "\n",
        "#### We start by importing k-means from scikit-learn and then proceed to create 4 clusters."
      ]
    },
    {
      "cell_type": "code",
      "metadata": {
        "id": "4lCg4AXptwMt",
        "colab_type": "code",
        "colab": {}
      },
      "source": [
        "from sklearn.cluster import KMeans"
      ],
      "execution_count": 40,
      "outputs": []
    },
    {
      "cell_type": "code",
      "metadata": {
        "id": "9OUwj5qHtwMv",
        "colab_type": "code",
        "colab": {}
      },
      "source": [
        "model = KMeans(n_clusters=4,random_state=42)"
      ],
      "execution_count": 41,
      "outputs": []
    },
    {
      "cell_type": "code",
      "metadata": {
        "id": "B6KAxEDE2poy",
        "colab_type": "code",
        "colab": {
          "base_uri": "https://localhost:8080/",
          "height": 68
        },
        "outputId": "6fa29908-bc96-4848-cd43-a890090f53f3"
      },
      "source": [
        "model.fit(wine_data)"
      ],
      "execution_count": 42,
      "outputs": [
        {
          "output_type": "execute_result",
          "data": {
            "text/plain": [
              "KMeans(algorithm='auto', copy_x=True, init='k-means++', max_iter=300,\n",
              "       n_clusters=4, n_init=10, n_jobs=None, precompute_distances='auto',\n",
              "       random_state=42, tol=0.0001, verbose=0)"
            ]
          },
          "metadata": {
            "tags": []
          },
          "execution_count": 42
        }
      ]
    },
    {
      "cell_type": "markdown",
      "metadata": {
        "id": "b65yRT5xtwMy",
        "colab_type": "text"
      },
      "source": [
        "#### Print the cluster labels."
      ]
    },
    {
      "cell_type": "code",
      "metadata": {
        "id": "dWwchIwWtwMz",
        "colab_type": "code",
        "colab": {
          "base_uri": "https://localhost:8080/",
          "height": 136
        },
        "outputId": "08f2109c-197b-471a-e9ef-ee3a2293f725"
      },
      "source": [
        "print(\"Valores: \",len(model.labels_),\"\\n\")\n",
        "print(model.labels_)"
      ],
      "execution_count": 50,
      "outputs": [
        {
          "output_type": "stream",
          "text": [
            "Valores:  178 \n",
            "\n",
            "[3 3 1 1 0 1 1 1 3 3 1 1 1 3 1 1 1 3 1 0 0 0 3 3 0 0 1 1 3 3 1 1 3 1 3 3 3\n",
            " 3 3 0 0 3 3 0 3 3 3 3 3 1 3 1 1 1 3 3 3 1 1 2 0 2 0 2 2 0 2 2 0 0 3 2 2 3\n",
            " 3 2 2 2 0 2 2 0 0 2 2 2 2 2 0 0 2 2 2 2 2 3 0 2 0 2 0 2 2 2 0 2 2 2 2 0 2\n",
            " 2 0 2 2 2 2 2 2 2 0 2 2 2 2 2 2 2 2 0 0 2 2 0 0 0 0 2 0 0 0 0 2 2 0 0 2 0\n",
            " 0 2 2 2 2 0 0 0 2 3 0 0 2 0 2 0 0 2 0 0 0 0 2 2 0 0 0 0 0 2]\n"
          ],
          "name": "stdout"
        }
      ]
    },
    {
      "cell_type": "markdown",
      "metadata": {
        "id": "zUpYGX7stwM1",
        "colab_type": "text"
      },
      "source": [
        "#### Compute the size of each cluster. This can be done by counting the number of occurrences of each unique label in the list above.\n",
        "\n",
        "Which is the largest cluster of the 4?"
      ]
    },
    {
      "cell_type": "code",
      "metadata": {
        "id": "PxINP95KtwM2",
        "colab_type": "code",
        "colab": {
          "base_uri": "https://localhost:8080/",
          "height": 102
        },
        "outputId": "b1b911ae-219c-4b08-fcd9-04d212da9d7d"
      },
      "source": [
        "labels=pd.Series(model.labels_)\n",
        "labels.value_counts()"
      ],
      "execution_count": 78,
      "outputs": [
        {
          "output_type": "execute_result",
          "data": {
            "text/plain": [
              "2    66\n",
              "0    57\n",
              "3    32\n",
              "1    23\n",
              "dtype: int64"
            ]
          },
          "metadata": {
            "tags": []
          },
          "execution_count": 78
        }
      ]
    },
    {
      "cell_type": "code",
      "metadata": {
        "id": "f8wfaVE6twM4",
        "colab_type": "code",
        "colab": {}
      },
      "source": [
        "#Cluster 2"
      ],
      "execution_count": 61,
      "outputs": []
    },
    {
      "cell_type": "markdown",
      "metadata": {
        "id": "aPp-3C68twM6",
        "colab_type": "text"
      },
      "source": [
        "#### Inspect the shape of `wine['data']`"
      ]
    },
    {
      "cell_type": "code",
      "metadata": {
        "id": "xPzmxuZvtwM7",
        "colab_type": "code",
        "colab": {
          "base_uri": "https://localhost:8080/",
          "height": 34
        },
        "outputId": "516054fe-8a2b-4ffc-d7d6-b03df32db027"
      },
      "source": [
        "wine_data.shape"
      ],
      "execution_count": 62,
      "outputs": [
        {
          "output_type": "execute_result",
          "data": {
            "text/plain": [
              "(178, 13)"
            ]
          },
          "metadata": {
            "tags": []
          },
          "execution_count": 62
        }
      ]
    },
    {
      "cell_type": "markdown",
      "metadata": {
        "id": "lkUODitBtwM-",
        "colab_type": "text"
      },
      "source": [
        "#### Inspect the first 5 records in `wine['data']`"
      ]
    },
    {
      "cell_type": "code",
      "metadata": {
        "id": "nxvyanR4twM-",
        "colab_type": "code",
        "colab": {
          "base_uri": "https://localhost:8080/",
          "height": 204
        },
        "outputId": "20a681e9-9fe2-4184-b1a2-29ede6bc309a"
      },
      "source": [
        "wine_data.head()"
      ],
      "execution_count": 63,
      "outputs": [
        {
          "output_type": "execute_result",
          "data": {
            "text/html": [
              "<div>\n",
              "<style scoped>\n",
              "    .dataframe tbody tr th:only-of-type {\n",
              "        vertical-align: middle;\n",
              "    }\n",
              "\n",
              "    .dataframe tbody tr th {\n",
              "        vertical-align: top;\n",
              "    }\n",
              "\n",
              "    .dataframe thead th {\n",
              "        text-align: right;\n",
              "    }\n",
              "</style>\n",
              "<table border=\"1\" class=\"dataframe\">\n",
              "  <thead>\n",
              "    <tr style=\"text-align: right;\">\n",
              "      <th></th>\n",
              "      <th>alcohol</th>\n",
              "      <th>malic_acid</th>\n",
              "      <th>ash</th>\n",
              "      <th>alcalinity_of_ash</th>\n",
              "      <th>magnesium</th>\n",
              "      <th>total_phenols</th>\n",
              "      <th>flavanoids</th>\n",
              "      <th>nonflavanoid_phenols</th>\n",
              "      <th>proanthocyanins</th>\n",
              "      <th>color_intensity</th>\n",
              "      <th>hue</th>\n",
              "      <th>od280/od315_of_diluted_wines</th>\n",
              "      <th>proline</th>\n",
              "    </tr>\n",
              "  </thead>\n",
              "  <tbody>\n",
              "    <tr>\n",
              "      <th>0</th>\n",
              "      <td>14.23</td>\n",
              "      <td>1.71</td>\n",
              "      <td>2.43</td>\n",
              "      <td>15.6</td>\n",
              "      <td>127.0</td>\n",
              "      <td>2.80</td>\n",
              "      <td>3.06</td>\n",
              "      <td>0.28</td>\n",
              "      <td>2.29</td>\n",
              "      <td>5.64</td>\n",
              "      <td>1.04</td>\n",
              "      <td>3.92</td>\n",
              "      <td>1065.0</td>\n",
              "    </tr>\n",
              "    <tr>\n",
              "      <th>1</th>\n",
              "      <td>13.20</td>\n",
              "      <td>1.78</td>\n",
              "      <td>2.14</td>\n",
              "      <td>11.2</td>\n",
              "      <td>100.0</td>\n",
              "      <td>2.65</td>\n",
              "      <td>2.76</td>\n",
              "      <td>0.26</td>\n",
              "      <td>1.28</td>\n",
              "      <td>4.38</td>\n",
              "      <td>1.05</td>\n",
              "      <td>3.40</td>\n",
              "      <td>1050.0</td>\n",
              "    </tr>\n",
              "    <tr>\n",
              "      <th>2</th>\n",
              "      <td>13.16</td>\n",
              "      <td>2.36</td>\n",
              "      <td>2.67</td>\n",
              "      <td>18.6</td>\n",
              "      <td>101.0</td>\n",
              "      <td>2.80</td>\n",
              "      <td>3.24</td>\n",
              "      <td>0.30</td>\n",
              "      <td>2.81</td>\n",
              "      <td>5.68</td>\n",
              "      <td>1.03</td>\n",
              "      <td>3.17</td>\n",
              "      <td>1185.0</td>\n",
              "    </tr>\n",
              "    <tr>\n",
              "      <th>3</th>\n",
              "      <td>14.37</td>\n",
              "      <td>1.95</td>\n",
              "      <td>2.50</td>\n",
              "      <td>16.8</td>\n",
              "      <td>113.0</td>\n",
              "      <td>3.85</td>\n",
              "      <td>3.49</td>\n",
              "      <td>0.24</td>\n",
              "      <td>2.18</td>\n",
              "      <td>7.80</td>\n",
              "      <td>0.86</td>\n",
              "      <td>3.45</td>\n",
              "      <td>1480.0</td>\n",
              "    </tr>\n",
              "    <tr>\n",
              "      <th>4</th>\n",
              "      <td>13.24</td>\n",
              "      <td>2.59</td>\n",
              "      <td>2.87</td>\n",
              "      <td>21.0</td>\n",
              "      <td>118.0</td>\n",
              "      <td>2.80</td>\n",
              "      <td>2.69</td>\n",
              "      <td>0.39</td>\n",
              "      <td>1.82</td>\n",
              "      <td>4.32</td>\n",
              "      <td>1.04</td>\n",
              "      <td>2.93</td>\n",
              "      <td>735.0</td>\n",
              "    </tr>\n",
              "  </tbody>\n",
              "</table>\n",
              "</div>"
            ],
            "text/plain": [
              "   alcohol  malic_acid   ash  ...   hue  od280/od315_of_diluted_wines  proline\n",
              "0    14.23        1.71  2.43  ...  1.04                          3.92   1065.0\n",
              "1    13.20        1.78  2.14  ...  1.05                          3.40   1050.0\n",
              "2    13.16        2.36  2.67  ...  1.03                          3.17   1185.0\n",
              "3    14.37        1.95  2.50  ...  0.86                          3.45   1480.0\n",
              "4    13.24        2.59  2.87  ...  1.04                          2.93    735.0\n",
              "\n",
              "[5 rows x 13 columns]"
            ]
          },
          "metadata": {
            "tags": []
          },
          "execution_count": 63
        }
      ]
    },
    {
      "cell_type": "markdown",
      "metadata": {
        "id": "vxkPwjHxtwNB",
        "colab_type": "text"
      },
      "source": [
        "You now know the data object is a 2-dimensional array in which there are 178 rows and 13 columns. Each row is a data record and each column is a feature.\n",
        "\n",
        "#### What is the average ash content for each cluster? \n",
        "\n",
        "*Hints:* \n",
        "\n",
        "* *Ash* is the 3rd column.\n",
        "\n",
        "* The data object is not a Pandas dataframe so you can't apply `pandas.DataFrame.groupby`. Instead, you can use `np.average`."
      ]
    },
    {
      "cell_type": "code",
      "metadata": {
        "id": "sbMUXgJytwNC",
        "colab_type": "code",
        "colab": {
          "base_uri": "https://localhost:8080/",
          "height": 204
        },
        "outputId": "904403fd-60c7-4fd5-f6bf-6c307e4c9ee4"
      },
      "source": [
        "wine_data=pd.concat([wine_data,labels.rename(\"Label\")],axis=1)\n",
        "wine_data.head()"
      ],
      "execution_count": 82,
      "outputs": [
        {
          "output_type": "execute_result",
          "data": {
            "text/html": [
              "<div>\n",
              "<style scoped>\n",
              "    .dataframe tbody tr th:only-of-type {\n",
              "        vertical-align: middle;\n",
              "    }\n",
              "\n",
              "    .dataframe tbody tr th {\n",
              "        vertical-align: top;\n",
              "    }\n",
              "\n",
              "    .dataframe thead th {\n",
              "        text-align: right;\n",
              "    }\n",
              "</style>\n",
              "<table border=\"1\" class=\"dataframe\">\n",
              "  <thead>\n",
              "    <tr style=\"text-align: right;\">\n",
              "      <th></th>\n",
              "      <th>alcohol</th>\n",
              "      <th>malic_acid</th>\n",
              "      <th>ash</th>\n",
              "      <th>alcalinity_of_ash</th>\n",
              "      <th>magnesium</th>\n",
              "      <th>total_phenols</th>\n",
              "      <th>flavanoids</th>\n",
              "      <th>nonflavanoid_phenols</th>\n",
              "      <th>proanthocyanins</th>\n",
              "      <th>color_intensity</th>\n",
              "      <th>hue</th>\n",
              "      <th>od280/od315_of_diluted_wines</th>\n",
              "      <th>proline</th>\n",
              "      <th>Label</th>\n",
              "    </tr>\n",
              "  </thead>\n",
              "  <tbody>\n",
              "    <tr>\n",
              "      <th>0</th>\n",
              "      <td>14.23</td>\n",
              "      <td>1.71</td>\n",
              "      <td>2.43</td>\n",
              "      <td>15.6</td>\n",
              "      <td>127.0</td>\n",
              "      <td>2.80</td>\n",
              "      <td>3.06</td>\n",
              "      <td>0.28</td>\n",
              "      <td>2.29</td>\n",
              "      <td>5.64</td>\n",
              "      <td>1.04</td>\n",
              "      <td>3.92</td>\n",
              "      <td>1065.0</td>\n",
              "      <td>3</td>\n",
              "    </tr>\n",
              "    <tr>\n",
              "      <th>1</th>\n",
              "      <td>13.20</td>\n",
              "      <td>1.78</td>\n",
              "      <td>2.14</td>\n",
              "      <td>11.2</td>\n",
              "      <td>100.0</td>\n",
              "      <td>2.65</td>\n",
              "      <td>2.76</td>\n",
              "      <td>0.26</td>\n",
              "      <td>1.28</td>\n",
              "      <td>4.38</td>\n",
              "      <td>1.05</td>\n",
              "      <td>3.40</td>\n",
              "      <td>1050.0</td>\n",
              "      <td>3</td>\n",
              "    </tr>\n",
              "    <tr>\n",
              "      <th>2</th>\n",
              "      <td>13.16</td>\n",
              "      <td>2.36</td>\n",
              "      <td>2.67</td>\n",
              "      <td>18.6</td>\n",
              "      <td>101.0</td>\n",
              "      <td>2.80</td>\n",
              "      <td>3.24</td>\n",
              "      <td>0.30</td>\n",
              "      <td>2.81</td>\n",
              "      <td>5.68</td>\n",
              "      <td>1.03</td>\n",
              "      <td>3.17</td>\n",
              "      <td>1185.0</td>\n",
              "      <td>1</td>\n",
              "    </tr>\n",
              "    <tr>\n",
              "      <th>3</th>\n",
              "      <td>14.37</td>\n",
              "      <td>1.95</td>\n",
              "      <td>2.50</td>\n",
              "      <td>16.8</td>\n",
              "      <td>113.0</td>\n",
              "      <td>3.85</td>\n",
              "      <td>3.49</td>\n",
              "      <td>0.24</td>\n",
              "      <td>2.18</td>\n",
              "      <td>7.80</td>\n",
              "      <td>0.86</td>\n",
              "      <td>3.45</td>\n",
              "      <td>1480.0</td>\n",
              "      <td>1</td>\n",
              "    </tr>\n",
              "    <tr>\n",
              "      <th>4</th>\n",
              "      <td>13.24</td>\n",
              "      <td>2.59</td>\n",
              "      <td>2.87</td>\n",
              "      <td>21.0</td>\n",
              "      <td>118.0</td>\n",
              "      <td>2.80</td>\n",
              "      <td>2.69</td>\n",
              "      <td>0.39</td>\n",
              "      <td>1.82</td>\n",
              "      <td>4.32</td>\n",
              "      <td>1.04</td>\n",
              "      <td>2.93</td>\n",
              "      <td>735.0</td>\n",
              "      <td>0</td>\n",
              "    </tr>\n",
              "  </tbody>\n",
              "</table>\n",
              "</div>"
            ],
            "text/plain": [
              "   alcohol  malic_acid   ash  ...  od280/od315_of_diluted_wines  proline  Label\n",
              "0    14.23        1.71  2.43  ...                          3.92   1065.0      3\n",
              "1    13.20        1.78  2.14  ...                          3.40   1050.0      3\n",
              "2    13.16        2.36  2.67  ...                          3.17   1185.0      1\n",
              "3    14.37        1.95  2.50  ...                          3.45   1480.0      1\n",
              "4    13.24        2.59  2.87  ...                          2.93    735.0      0\n",
              "\n",
              "[5 rows x 14 columns]"
            ]
          },
          "metadata": {
            "tags": []
          },
          "execution_count": 82
        }
      ]
    },
    {
      "cell_type": "code",
      "metadata": {
        "id": "TzqIs1Q66qGu",
        "colab_type": "code",
        "colab": {
          "base_uri": "https://localhost:8080/",
          "height": 119
        },
        "outputId": "18e16f98-a3a2-4dea-845d-0446678a54e4"
      },
      "source": [
        "wine_data.groupby(by=\"Label\")[\"ash\"].mean()"
      ],
      "execution_count": 83,
      "outputs": [
        {
          "output_type": "execute_result",
          "data": {
            "text/plain": [
              "Label\n",
              "0    2.403158\n",
              "1    2.506957\n",
              "2    2.283788\n",
              "3    2.370937\n",
              "Name: ash, dtype: float64"
            ]
          },
          "metadata": {
            "tags": []
          },
          "execution_count": 83
        }
      ]
    },
    {
      "cell_type": "markdown",
      "metadata": {
        "id": "qTCKn5MFtwNE",
        "colab_type": "text"
      },
      "source": [
        "# Challenge 3 - Load and Explore an External Dataset\n",
        "\n",
        "We will now load an external dataset using Pandas and use scikit learn to explore the data. In this portion of the lab, we will use a [patient dataset from Kaggle](https://www.kaggle.com/miles99/patient-admission-dataset-for-learning-data-mining). "
      ]
    },
    {
      "cell_type": "code",
      "metadata": {
        "id": "-8apLNPDtwNF",
        "colab_type": "code",
        "colab": {}
      },
      "source": [
        "patients = pd.read_csv('https://raw.githubusercontent.com/eduardoheros/lab-sklearn-and-unsupervised-learning/master/patient-admission-dataset-for-learning-data-mining.csv')"
      ],
      "execution_count": 134,
      "outputs": []
    },
    {
      "cell_type": "markdown",
      "metadata": {
        "id": "Yy3WtGKPtwNH",
        "colab_type": "text"
      },
      "source": [
        "In the next cell, print the first five rows of the data using the `head()` function."
      ]
    },
    {
      "cell_type": "code",
      "metadata": {
        "id": "3x_Y3UCdtwNH",
        "colab_type": "code",
        "colab": {
          "base_uri": "https://localhost:8080/",
          "height": 275
        },
        "outputId": "65ab3ac9-663c-4f5a-87b5-10ece832d583"
      },
      "source": [
        "patients.head()"
      ],
      "execution_count": 135,
      "outputs": [
        {
          "output_type": "execute_result",
          "data": {
            "text/html": [
              "<div>\n",
              "<style scoped>\n",
              "    .dataframe tbody tr th:only-of-type {\n",
              "        vertical-align: middle;\n",
              "    }\n",
              "\n",
              "    .dataframe tbody tr th {\n",
              "        vertical-align: top;\n",
              "    }\n",
              "\n",
              "    .dataframe thead th {\n",
              "        text-align: right;\n",
              "    }\n",
              "</style>\n",
              "<table border=\"1\" class=\"dataframe\">\n",
              "  <thead>\n",
              "    <tr style=\"text-align: right;\">\n",
              "      <th></th>\n",
              "      <th>id</th>\n",
              "      <th>patient_name</th>\n",
              "      <th>patient_email</th>\n",
              "      <th>doctor_phone</th>\n",
              "      <th>patient_gender</th>\n",
              "      <th>patient_dob</th>\n",
              "      <th>patient_diabetic</th>\n",
              "      <th>patient_allergic</th>\n",
              "      <th>patient_weight_kg</th>\n",
              "      <th>patient_height_sm</th>\n",
              "      <th>patient_nhs_number</th>\n",
              "      <th>doctor_name</th>\n",
              "      <th>appointment_date</th>\n",
              "      <th>patient_show</th>\n",
              "      <th>is_regular_visit</th>\n",
              "      <th>prescribed_medicines</th>\n",
              "      <th>diagnosis</th>\n",
              "    </tr>\n",
              "  </thead>\n",
              "  <tbody>\n",
              "    <tr>\n",
              "      <th>0</th>\n",
              "      <td>1</td>\n",
              "      <td>Celestyna Dillimore</td>\n",
              "      <td>cdillimore0@dion.ne.jp</td>\n",
              "      <td>674-914-1212</td>\n",
              "      <td>Female</td>\n",
              "      <td>10/18/2018</td>\n",
              "      <td>False</td>\n",
              "      <td>True</td>\n",
              "      <td>59</td>\n",
              "      <td>176</td>\n",
              "      <td>8.200152e+09</td>\n",
              "      <td>Sarena Waliszek</td>\n",
              "      <td>5/1/2018</td>\n",
              "      <td>True</td>\n",
              "      <td>True</td>\n",
              "      <td>triamcinolone acetonide</td>\n",
              "      <td>I669</td>\n",
              "    </tr>\n",
              "    <tr>\n",
              "      <th>1</th>\n",
              "      <td>2</td>\n",
              "      <td>Meta Michieli</td>\n",
              "      <td>mmichieli1@loc.gov</td>\n",
              "      <td>172-580-3586</td>\n",
              "      <td>Female</td>\n",
              "      <td>2/8/2018</td>\n",
              "      <td>False</td>\n",
              "      <td>True</td>\n",
              "      <td>77</td>\n",
              "      <td>186</td>\n",
              "      <td>NaN</td>\n",
              "      <td>Farris Robinet</td>\n",
              "      <td>12/7/2017</td>\n",
              "      <td>True</td>\n",
              "      <td>True</td>\n",
              "      <td>NaN</td>\n",
              "      <td>NaN</td>\n",
              "    </tr>\n",
              "    <tr>\n",
              "      <th>2</th>\n",
              "      <td>3</td>\n",
              "      <td>Cordie Sancto</td>\n",
              "      <td>csancto2@cafepress.com</td>\n",
              "      <td>794-222-5085</td>\n",
              "      <td>Female</td>\n",
              "      <td>10/9/2018</td>\n",
              "      <td>True</td>\n",
              "      <td>True</td>\n",
              "      <td>90</td>\n",
              "      <td>177</td>\n",
              "      <td>6.145594e+09</td>\n",
              "      <td>Kaspar Spitaro</td>\n",
              "      <td>10/5/2018</td>\n",
              "      <td>False</td>\n",
              "      <td>False</td>\n",
              "      <td>NaN</td>\n",
              "      <td>NaN</td>\n",
              "    </tr>\n",
              "    <tr>\n",
              "      <th>3</th>\n",
              "      <td>4</td>\n",
              "      <td>Josh De Ambrosis</td>\n",
              "      <td>jde3@amazon.co.jp</td>\n",
              "      <td>856-540-5195</td>\n",
              "      <td>Male</td>\n",
              "      <td>9/10/2018</td>\n",
              "      <td>True</td>\n",
              "      <td>True</td>\n",
              "      <td>70</td>\n",
              "      <td>150</td>\n",
              "      <td>NaN</td>\n",
              "      <td>Rafferty Fowls</td>\n",
              "      <td>10/21/2018</td>\n",
              "      <td>False</td>\n",
              "      <td>True</td>\n",
              "      <td>NaN</td>\n",
              "      <td>NaN</td>\n",
              "    </tr>\n",
              "    <tr>\n",
              "      <th>4</th>\n",
              "      <td>5</td>\n",
              "      <td>Delinda Alfonsini</td>\n",
              "      <td>dalfonsini4@opensource.org</td>\n",
              "      <td>938-978-1131</td>\n",
              "      <td>Female</td>\n",
              "      <td>2/26/2018</td>\n",
              "      <td>False</td>\n",
              "      <td>True</td>\n",
              "      <td>82</td>\n",
              "      <td>140</td>\n",
              "      <td>4.804758e+08</td>\n",
              "      <td>Glenna MacNeachtain</td>\n",
              "      <td>11/15/2018</td>\n",
              "      <td>False</td>\n",
              "      <td>False</td>\n",
              "      <td>NaN</td>\n",
              "      <td>NaN</td>\n",
              "    </tr>\n",
              "  </tbody>\n",
              "</table>\n",
              "</div>"
            ],
            "text/plain": [
              "   id         patient_name  ...     prescribed_medicines diagnosis\n",
              "0   1  Celestyna Dillimore  ...  triamcinolone acetonide      I669\n",
              "1   2        Meta Michieli  ...                      NaN       NaN\n",
              "2   3        Cordie Sancto  ...                      NaN       NaN\n",
              "3   4     Josh De Ambrosis  ...                      NaN       NaN\n",
              "4   5    Delinda Alfonsini  ...                      NaN       NaN\n",
              "\n",
              "[5 rows x 17 columns]"
            ]
          },
          "metadata": {
            "tags": []
          },
          "execution_count": 135
        }
      ]
    },
    {
      "cell_type": "markdown",
      "metadata": {
        "id": "b8Huz8g7twNJ",
        "colab_type": "text"
      },
      "source": [
        "Next, print the column types and check which columns have been misclassified by pandas."
      ]
    },
    {
      "cell_type": "code",
      "metadata": {
        "id": "sIz4e3N1twNK",
        "colab_type": "code",
        "colab": {
          "base_uri": "https://localhost:8080/",
          "height": 323
        },
        "outputId": "ec7599e1-4cf4-4c1e-bb9d-d809bd991fff"
      },
      "source": [
        "patients.dtypes"
      ],
      "execution_count": 136,
      "outputs": [
        {
          "output_type": "execute_result",
          "data": {
            "text/plain": [
              "id                        int64\n",
              "patient_name             object\n",
              "patient_email            object\n",
              "doctor_phone             object\n",
              "patient_gender           object\n",
              "patient_dob              object\n",
              "patient_diabetic           bool\n",
              "patient_allergic           bool\n",
              "patient_weight_kg         int64\n",
              "patient_height_sm         int64\n",
              "patient_nhs_number      float64\n",
              "doctor_name              object\n",
              "appointment_date         object\n",
              "patient_show               bool\n",
              "is_regular_visit           bool\n",
              "prescribed_medicines     object\n",
              "diagnosis                object\n",
              "dtype: object"
            ]
          },
          "metadata": {
            "tags": []
          },
          "execution_count": 136
        }
      ]
    },
    {
      "cell_type": "markdown",
      "metadata": {
        "id": "Dn2lfNRltwNM",
        "colab_type": "text"
      },
      "source": [
        "#### We can see that none of the date columns have been correctly classified. Also, some columns contain qualitative data that can be dropped.\n",
        "\n",
        "First, transform the `patient_dob` and `appointment_date` columns to datetime using the `pd.to_datetime` function."
      ]
    },
    {
      "cell_type": "code",
      "metadata": {
        "id": "8fsUd-eqtwNM",
        "colab_type": "code",
        "colab": {}
      },
      "source": [
        "patients.patient_dob=pd.to_datetime(patients.patient_dob)\n",
        "patients.appointment_date=pd.to_datetime(patients.appointment_date)"
      ],
      "execution_count": 137,
      "outputs": []
    },
    {
      "cell_type": "markdown",
      "metadata": {
        "id": "Nq7NS0qvtwNO",
        "colab_type": "text"
      },
      "source": [
        "Next, drop the `id`, `patient_name`, `patient_email`, `patient_nhs_number`, and `doctor_phone` columns. These are not quantitative columns and will not contribute to our analysis."
      ]
    },
    {
      "cell_type": "code",
      "metadata": {
        "id": "W91tih15twNO",
        "colab_type": "code",
        "colab": {}
      },
      "source": [
        "patients.drop(columns=[\"id\", \"patient_name\", \"patient_email\", \"patient_nhs_number\",\"doctor_phone\"],inplace=True)"
      ],
      "execution_count": 138,
      "outputs": []
    },
    {
      "cell_type": "markdown",
      "metadata": {
        "id": "sZYIN115twNR",
        "colab_type": "text"
      },
      "source": [
        "Now we work on the missing data. Most ML algorithms will not perform as intended if there are missing data.\n",
        "\n",
        "In the cell below, count how many rows contain missing data in each column. You should see three columns contain missing data:\n",
        "\n",
        "* `doctor_name`: 58 missing data\n",
        "* `prescribed_medicines`: 488 missing data\n",
        "* `diagnosis`: 488 missing data"
      ]
    },
    {
      "cell_type": "code",
      "metadata": {
        "id": "mD7w57SotwNR",
        "colab_type": "code",
        "colab": {
          "base_uri": "https://localhost:8080/",
          "height": 340
        },
        "outputId": "a50ce93e-a851-4ac0-f4c6-564ea0e61a25"
      },
      "source": [
        "patients.info()"
      ],
      "execution_count": 139,
      "outputs": [
        {
          "output_type": "stream",
          "text": [
            "<class 'pandas.core.frame.DataFrame'>\n",
            "RangeIndex: 1000 entries, 0 to 999\n",
            "Data columns (total 12 columns):\n",
            " #   Column                Non-Null Count  Dtype         \n",
            "---  ------                --------------  -----         \n",
            " 0   patient_gender        1000 non-null   object        \n",
            " 1   patient_dob           1000 non-null   datetime64[ns]\n",
            " 2   patient_diabetic      1000 non-null   bool          \n",
            " 3   patient_allergic      1000 non-null   bool          \n",
            " 4   patient_weight_kg     1000 non-null   int64         \n",
            " 5   patient_height_sm     1000 non-null   int64         \n",
            " 6   doctor_name           942 non-null    object        \n",
            " 7   appointment_date      1000 non-null   datetime64[ns]\n",
            " 8   patient_show          1000 non-null   bool          \n",
            " 9   is_regular_visit      1000 non-null   bool          \n",
            " 10  prescribed_medicines  512 non-null    object        \n",
            " 11  diagnosis             512 non-null    object        \n",
            "dtypes: bool(4), datetime64[ns](2), int64(2), object(4)\n",
            "memory usage: 66.5+ KB\n"
          ],
          "name": "stdout"
        }
      ]
    },
    {
      "cell_type": "markdown",
      "metadata": {
        "id": "YyNDdLpStwNU",
        "colab_type": "text"
      },
      "source": [
        "The main issues are found in the `prescribed_medicines` and `diagnosis` columns. Can we simply drop these rows?\n",
        "\n",
        "The answer is not yet. Because when there are missing data in these columns, it doesn't mean the data records are broken. Instead, it means no medication was prescribed and no diagnosis was recorded. Therefore, once we fill in the missing data these columns will be fine. But we'll revisit these columns and decide whether we will eventually drop them when we look at how many unique values are there in these categorical columns.  \n",
        "\n",
        "For the `prescribed_medicines` column, fill the missing values with the value `no prescription`. For the `diagnosis` column, fill the missing values with `no diagnosis`.\n",
        "\n",
        "*Hint: Use [`pandas.DataFrame.fillna`](https://pandas.pydata.org/pandas-docs/stable/generated/pandas.DataFrame.fillna.html).*"
      ]
    },
    {
      "cell_type": "code",
      "metadata": {
        "id": "K5s1V8dstwNU",
        "colab_type": "code",
        "colab": {}
      },
      "source": [
        "patients.prescribed_medicines.fillna(\"No prescription\",inplace=True)\n",
        "patients.diagnosis.fillna(\"No diagnosis\",inplace=True)"
      ],
      "execution_count": 140,
      "outputs": []
    },
    {
      "cell_type": "markdown",
      "metadata": {
        "id": "Rg3P-gnntwNX",
        "colab_type": "text"
      },
      "source": [
        "How about `doctor_name`? Since a doctor visit without a doctor name might not be meaningful, we will drop these rows."
      ]
    },
    {
      "cell_type": "code",
      "metadata": {
        "id": "Gvt1lpSUtwNX",
        "colab_type": "code",
        "colab": {}
      },
      "source": [
        "patients.dropna(inplace=True)"
      ],
      "execution_count": 141,
      "outputs": []
    },
    {
      "cell_type": "markdown",
      "metadata": {
        "id": "F10lw80CtwNZ",
        "colab_type": "text"
      },
      "source": [
        "#### Another step in preprocessing that can be performed by scikit-learn is label encoding. \n",
        "\n",
        "We have 4 columns that are of `bool` type. We would like to convert them to an integer column containing either zero or one. We can do this using [scikit-learn's label encoder](https://scikit-learn.org/stable/modules/generated/sklearn.preprocessing.LabelEncoder.html).\n",
        "\n",
        "In the cell below, import the label encoder and encode the 4 boolean columns (*patient_diabetic*, *patient_allergic*, *patient_show*, *is_regular_visit*) with `0` and `1`. "
      ]
    },
    {
      "cell_type": "code",
      "metadata": {
        "id": "L1FROfUAtwNa",
        "colab_type": "code",
        "colab": {}
      },
      "source": [
        "from sklearn.preprocessing import LabelEncoder"
      ],
      "execution_count": 142,
      "outputs": []
    },
    {
      "cell_type": "code",
      "metadata": {
        "id": "8l2DCR9z-sNo",
        "colab_type": "code",
        "colab": {
          "base_uri": "https://localhost:8080/",
          "height": 204
        },
        "outputId": "4b52e995-9621-49fc-92b6-fca75f0368d9"
      },
      "source": [
        "columnas=[\"patient_diabetic\", \"patient_allergic\", \"patient_show\", \"is_regular_visit\"]\n",
        "LE=LabelEncoder()\n",
        "for i in columnas:\n",
        "  patients[i]=LE.fit_transform(patients[i])\n",
        "patients.head()"
      ],
      "execution_count": 143,
      "outputs": [
        {
          "output_type": "execute_result",
          "data": {
            "text/html": [
              "<div>\n",
              "<style scoped>\n",
              "    .dataframe tbody tr th:only-of-type {\n",
              "        vertical-align: middle;\n",
              "    }\n",
              "\n",
              "    .dataframe tbody tr th {\n",
              "        vertical-align: top;\n",
              "    }\n",
              "\n",
              "    .dataframe thead th {\n",
              "        text-align: right;\n",
              "    }\n",
              "</style>\n",
              "<table border=\"1\" class=\"dataframe\">\n",
              "  <thead>\n",
              "    <tr style=\"text-align: right;\">\n",
              "      <th></th>\n",
              "      <th>patient_gender</th>\n",
              "      <th>patient_dob</th>\n",
              "      <th>patient_diabetic</th>\n",
              "      <th>patient_allergic</th>\n",
              "      <th>patient_weight_kg</th>\n",
              "      <th>patient_height_sm</th>\n",
              "      <th>doctor_name</th>\n",
              "      <th>appointment_date</th>\n",
              "      <th>patient_show</th>\n",
              "      <th>is_regular_visit</th>\n",
              "      <th>prescribed_medicines</th>\n",
              "      <th>diagnosis</th>\n",
              "    </tr>\n",
              "  </thead>\n",
              "  <tbody>\n",
              "    <tr>\n",
              "      <th>0</th>\n",
              "      <td>Female</td>\n",
              "      <td>2018-10-18</td>\n",
              "      <td>0</td>\n",
              "      <td>1</td>\n",
              "      <td>59</td>\n",
              "      <td>176</td>\n",
              "      <td>Sarena Waliszek</td>\n",
              "      <td>2018-05-01</td>\n",
              "      <td>1</td>\n",
              "      <td>1</td>\n",
              "      <td>triamcinolone acetonide</td>\n",
              "      <td>I669</td>\n",
              "    </tr>\n",
              "    <tr>\n",
              "      <th>1</th>\n",
              "      <td>Female</td>\n",
              "      <td>2018-02-08</td>\n",
              "      <td>0</td>\n",
              "      <td>1</td>\n",
              "      <td>77</td>\n",
              "      <td>186</td>\n",
              "      <td>Farris Robinet</td>\n",
              "      <td>2017-12-07</td>\n",
              "      <td>1</td>\n",
              "      <td>1</td>\n",
              "      <td>No prescription</td>\n",
              "      <td>No diagnosis</td>\n",
              "    </tr>\n",
              "    <tr>\n",
              "      <th>2</th>\n",
              "      <td>Female</td>\n",
              "      <td>2018-10-09</td>\n",
              "      <td>1</td>\n",
              "      <td>1</td>\n",
              "      <td>90</td>\n",
              "      <td>177</td>\n",
              "      <td>Kaspar Spitaro</td>\n",
              "      <td>2018-10-05</td>\n",
              "      <td>0</td>\n",
              "      <td>0</td>\n",
              "      <td>No prescription</td>\n",
              "      <td>No diagnosis</td>\n",
              "    </tr>\n",
              "    <tr>\n",
              "      <th>3</th>\n",
              "      <td>Male</td>\n",
              "      <td>2018-09-10</td>\n",
              "      <td>1</td>\n",
              "      <td>1</td>\n",
              "      <td>70</td>\n",
              "      <td>150</td>\n",
              "      <td>Rafferty Fowls</td>\n",
              "      <td>2018-10-21</td>\n",
              "      <td>0</td>\n",
              "      <td>1</td>\n",
              "      <td>No prescription</td>\n",
              "      <td>No diagnosis</td>\n",
              "    </tr>\n",
              "    <tr>\n",
              "      <th>4</th>\n",
              "      <td>Female</td>\n",
              "      <td>2018-02-26</td>\n",
              "      <td>0</td>\n",
              "      <td>1</td>\n",
              "      <td>82</td>\n",
              "      <td>140</td>\n",
              "      <td>Glenna MacNeachtain</td>\n",
              "      <td>2018-11-15</td>\n",
              "      <td>0</td>\n",
              "      <td>0</td>\n",
              "      <td>No prescription</td>\n",
              "      <td>No diagnosis</td>\n",
              "    </tr>\n",
              "  </tbody>\n",
              "</table>\n",
              "</div>"
            ],
            "text/plain": [
              "  patient_gender patient_dob  ...     prescribed_medicines     diagnosis\n",
              "0         Female  2018-10-18  ...  triamcinolone acetonide          I669\n",
              "1         Female  2018-02-08  ...          No prescription  No diagnosis\n",
              "2         Female  2018-10-09  ...          No prescription  No diagnosis\n",
              "3           Male  2018-09-10  ...          No prescription  No diagnosis\n",
              "4         Female  2018-02-26  ...          No prescription  No diagnosis\n",
              "\n",
              "[5 rows x 12 columns]"
            ]
          },
          "metadata": {
            "tags": []
          },
          "execution_count": 143
        }
      ]
    },
    {
      "cell_type": "markdown",
      "metadata": {
        "id": "z4sRdlletwNc",
        "colab_type": "text"
      },
      "source": [
        "Print the data dtypes to confirm those four `bool` columns are converted to `int64`."
      ]
    },
    {
      "cell_type": "code",
      "metadata": {
        "id": "zl3CSDGOtwNc",
        "colab_type": "code",
        "colab": {
          "base_uri": "https://localhost:8080/",
          "height": 238
        },
        "outputId": "772d4ee4-0944-423c-fffc-62bfc6b7a48a"
      },
      "source": [
        "patients.dtypes"
      ],
      "execution_count": 144,
      "outputs": [
        {
          "output_type": "execute_result",
          "data": {
            "text/plain": [
              "patient_gender                  object\n",
              "patient_dob             datetime64[ns]\n",
              "patient_diabetic                 int64\n",
              "patient_allergic                 int64\n",
              "patient_weight_kg                int64\n",
              "patient_height_sm                int64\n",
              "doctor_name                     object\n",
              "appointment_date        datetime64[ns]\n",
              "patient_show                     int64\n",
              "is_regular_visit                 int64\n",
              "prescribed_medicines            object\n",
              "diagnosis                       object\n",
              "dtype: object"
            ]
          },
          "metadata": {
            "tags": []
          },
          "execution_count": 144
        }
      ]
    },
    {
      "cell_type": "markdown",
      "metadata": {
        "id": "QO81DI5wtwNf",
        "colab_type": "text"
      },
      "source": [
        "#### The last step is to handle the `object` data.\n",
        "\n",
        "There are 4 `object` columns now: `patient_gender`, `doctor_name`, `prescribed_medicines`, and `diagnosis`. The gender columns\n",
        "\n",
        "In the next cell, check the unique values of each of the `object` columns using `value_counts()`."
      ]
    },
    {
      "cell_type": "code",
      "metadata": {
        "scrolled": false,
        "id": "tL1mexzHtwNf",
        "colab_type": "code",
        "colab": {
          "base_uri": "https://localhost:8080/",
          "height": 1000
        },
        "outputId": "37addc4d-cfd8-4bcf-8fc9-939b2e339aa2"
      },
      "source": [
        "col_objetos=patients.dtypes[patients.dtypes==\"O\"].index\n",
        "for i in col_objetos:\n",
        "  print(patients[i].value_counts(),\"\\n\"*5)"
      ],
      "execution_count": 145,
      "outputs": [
        {
          "output_type": "stream",
          "text": [
            "Female    476\n",
            "Male      466\n",
            "Name: patient_gender, dtype: int64 \n",
            "\n",
            "\n",
            "\n",
            "\n",
            "\n",
            "Sarena Waliszek           74\n",
            "Cissy Markey              57\n",
            "Farris Robinet            55\n",
            "Flossy Canlin             55\n",
            "Gabie Brafield            53\n",
            "Glenna MacNeachtain       53\n",
            "Jilly McGrill             53\n",
            "Nerte Elmer               51\n",
            "Oralie Swaffer            49\n",
            "Kaspar Spitaro            48\n",
            "Carly SperaJillie Katt    47\n",
            "Humfried Cartmel          47\n",
            "Wyn Grassett              47\n",
            "Madelina Scurrell         46\n",
            "Rafferty Fowls            45\n",
            "Rouvin McKinstry          42\n",
            "Dulce McKerley            42\n",
            "Ryley Swallow             40\n",
            "Hermina Domeny            38\n",
            "Name: doctor_name, dtype: int64 \n",
            "\n",
            "\n",
            "\n",
            "\n",
            "\n",
            "No prescription                       457\n",
            "ALCOHOL                                 8\n",
            "Ibuprofen                               6\n",
            "Triclosan                               5\n",
            "Acetaminophen                           5\n",
            "                                     ... \n",
            "Avobenzone, Octinoxate, Octisalate      1\n",
            "Levocetirizine Dihydrochloride          1\n",
            "lidocaine hydrochloride                 1\n",
            "ERYTHROMYCIN STEARATE                   1\n",
            "Metoclopramide Hydrochloride            1\n",
            "Name: prescribed_medicines, Length: 395, dtype: int64 \n",
            "\n",
            "\n",
            "\n",
            "\n",
            "\n",
            "No diagnosis    457\n",
            "T2169             2\n",
            "H1812             1\n",
            "T81507S           1\n",
            "S27432            1\n",
            "               ... \n",
            "S3510XD           1\n",
            "N2885             1\n",
            "L0233             1\n",
            "S153              1\n",
            "H01021            1\n",
            "Name: diagnosis, Length: 485, dtype: int64 \n",
            "\n",
            "\n",
            "\n",
            "\n",
            "\n"
          ],
          "name": "stdout"
        }
      ]
    },
    {
      "cell_type": "markdown",
      "metadata": {
        "id": "vjvDWdfRtwNh",
        "colab_type": "text"
      },
      "source": [
        "#### The number of unique values is large for all three columns except `patient_gender`. We will handle these columns differently.\n",
        "\n",
        "For `diagnosis`, there are too many unique values which will make ML difficult. However, we can re-encode the values to either with or without diagnosis. Remember at an earlier step we filled in the missing values of this column with *no diagnosis*? We can re-encode *no diagnosis* to `0` and all other values to `1`. In this way we can tremendously simply this column.\n",
        "\n",
        "For `prescribed_medicines`, we can drop this column because it is perfectly correlated with `diagnosis`. Whenever there is no diagnosis, there is no prescribed medicine. So we don't need to keep this duplicated data.\n",
        "\n",
        "How about `doctor_name`? There are not excessive unique values but still quite many (19). We may either drop or keep it but keeping it will make the analysis more complicated. So due to the length of this lab let's drop it.\n",
        "\n",
        "How about `gender`? This one is easy. Just like re-encoding the boolean values, we can re-encode gender to `0` and `1` because there are only 2 unique values.\n",
        "\n",
        "In the next cells, do the following:\n",
        "\n",
        "1. Create a new column called `diagnosis_int` that has `0` and `1` based on the values in `diagnosis`.\n",
        "\n",
        "1. Create a new column called `patient_gender_int` that has `0` and `1` based on the values in `patient_gender`.\n",
        "\n",
        "1. Drop the following columns: `doctor_name`, `diagnosis`, `prescribed_medicines`, and `patient_gender`."
      ]
    },
    {
      "cell_type": "code",
      "metadata": {
        "id": "lg3R4WQvtwNi",
        "colab_type": "code",
        "colab": {}
      },
      "source": [
        "patients[\"diagnosis_int\"]=patients.diagnosis.apply(lambda x: 0 if x==\"No diagnosis\" else 1)\n",
        "patients['patient_gender_int']=patients.diagnosis.apply(lambda x: 0 if x==\"Male\" else 1)\n",
        "patients.drop(columns=[\"doctor_name\",\"diagnosis\",\"prescribed_medicines\",\"patient_gender\"],inplace=True)"
      ],
      "execution_count": 146,
      "outputs": []
    },
    {
      "cell_type": "markdown",
      "metadata": {
        "id": "sJzFEHmgtwNk",
        "colab_type": "text"
      },
      "source": [
        "Let's look at the head again to ensure the re-encoding and dropping are successful:"
      ]
    },
    {
      "cell_type": "code",
      "metadata": {
        "id": "I6Tmje1jtwNk",
        "colab_type": "code",
        "colab": {
          "base_uri": "https://localhost:8080/",
          "height": 204
        },
        "outputId": "1ef1b12a-fa05-4462-864b-2796aaee9775"
      },
      "source": [
        "patients.head()"
      ],
      "execution_count": 147,
      "outputs": [
        {
          "output_type": "execute_result",
          "data": {
            "text/html": [
              "<div>\n",
              "<style scoped>\n",
              "    .dataframe tbody tr th:only-of-type {\n",
              "        vertical-align: middle;\n",
              "    }\n",
              "\n",
              "    .dataframe tbody tr th {\n",
              "        vertical-align: top;\n",
              "    }\n",
              "\n",
              "    .dataframe thead th {\n",
              "        text-align: right;\n",
              "    }\n",
              "</style>\n",
              "<table border=\"1\" class=\"dataframe\">\n",
              "  <thead>\n",
              "    <tr style=\"text-align: right;\">\n",
              "      <th></th>\n",
              "      <th>patient_dob</th>\n",
              "      <th>patient_diabetic</th>\n",
              "      <th>patient_allergic</th>\n",
              "      <th>patient_weight_kg</th>\n",
              "      <th>patient_height_sm</th>\n",
              "      <th>appointment_date</th>\n",
              "      <th>patient_show</th>\n",
              "      <th>is_regular_visit</th>\n",
              "      <th>diagnosis_int</th>\n",
              "      <th>patient_gender_int</th>\n",
              "    </tr>\n",
              "  </thead>\n",
              "  <tbody>\n",
              "    <tr>\n",
              "      <th>0</th>\n",
              "      <td>2018-10-18</td>\n",
              "      <td>0</td>\n",
              "      <td>1</td>\n",
              "      <td>59</td>\n",
              "      <td>176</td>\n",
              "      <td>2018-05-01</td>\n",
              "      <td>1</td>\n",
              "      <td>1</td>\n",
              "      <td>1</td>\n",
              "      <td>1</td>\n",
              "    </tr>\n",
              "    <tr>\n",
              "      <th>1</th>\n",
              "      <td>2018-02-08</td>\n",
              "      <td>0</td>\n",
              "      <td>1</td>\n",
              "      <td>77</td>\n",
              "      <td>186</td>\n",
              "      <td>2017-12-07</td>\n",
              "      <td>1</td>\n",
              "      <td>1</td>\n",
              "      <td>0</td>\n",
              "      <td>1</td>\n",
              "    </tr>\n",
              "    <tr>\n",
              "      <th>2</th>\n",
              "      <td>2018-10-09</td>\n",
              "      <td>1</td>\n",
              "      <td>1</td>\n",
              "      <td>90</td>\n",
              "      <td>177</td>\n",
              "      <td>2018-10-05</td>\n",
              "      <td>0</td>\n",
              "      <td>0</td>\n",
              "      <td>0</td>\n",
              "      <td>1</td>\n",
              "    </tr>\n",
              "    <tr>\n",
              "      <th>3</th>\n",
              "      <td>2018-09-10</td>\n",
              "      <td>1</td>\n",
              "      <td>1</td>\n",
              "      <td>70</td>\n",
              "      <td>150</td>\n",
              "      <td>2018-10-21</td>\n",
              "      <td>0</td>\n",
              "      <td>1</td>\n",
              "      <td>0</td>\n",
              "      <td>1</td>\n",
              "    </tr>\n",
              "    <tr>\n",
              "      <th>4</th>\n",
              "      <td>2018-02-26</td>\n",
              "      <td>0</td>\n",
              "      <td>1</td>\n",
              "      <td>82</td>\n",
              "      <td>140</td>\n",
              "      <td>2018-11-15</td>\n",
              "      <td>0</td>\n",
              "      <td>0</td>\n",
              "      <td>0</td>\n",
              "      <td>1</td>\n",
              "    </tr>\n",
              "  </tbody>\n",
              "</table>\n",
              "</div>"
            ],
            "text/plain": [
              "  patient_dob  patient_diabetic  ...  diagnosis_int  patient_gender_int\n",
              "0  2018-10-18                 0  ...              1                   1\n",
              "1  2018-02-08                 0  ...              0                   1\n",
              "2  2018-10-09                 1  ...              0                   1\n",
              "3  2018-09-10                 1  ...              0                   1\n",
              "4  2018-02-26                 0  ...              0                   1\n",
              "\n",
              "[5 rows x 10 columns]"
            ]
          },
          "metadata": {
            "tags": []
          },
          "execution_count": 147
        }
      ]
    },
    {
      "cell_type": "markdown",
      "metadata": {
        "id": "Q5N3AGB9twNm",
        "colab_type": "text"
      },
      "source": [
        "An interesting observation is that all patients are no older than 2 years. However, their weights and heights indicate that they are adults. This cannot be true. Therefore, we can either trust the weight and height columns or the DOB column. Since there are other columns that indicate that these are adults (they have emails, some have diabetes) we will drop the `patient_dob` column. We will also drop the `appointment_date` column since it has too many unique values to transform to a dummy variable. Drop the two columns in the cell below."
      ]
    },
    {
      "cell_type": "code",
      "metadata": {
        "id": "vz1J4Ar5twNn",
        "colab_type": "code",
        "colab": {}
      },
      "source": [
        "patients.drop(columns=[\"patient_dob\",\"appointment_date\"],inplace=True)"
      ],
      "execution_count": 148,
      "outputs": []
    },
    {
      "cell_type": "markdown",
      "metadata": {
        "id": "4P2RSmS7twNp",
        "colab_type": "text"
      },
      "source": [
        "#### Our data is now ready for clustering. Let's use k-means again.\n",
        "\n",
        "We start by initializing and fitting a model in the cell below. Call this model patients_cluster."
      ]
    },
    {
      "cell_type": "code",
      "metadata": {
        "id": "q8itOPoMtwNp",
        "colab_type": "code",
        "colab": {
          "base_uri": "https://localhost:8080/",
          "height": 68
        },
        "outputId": "12fa3ab7-ed01-4185-8ea2-df622cc1bc68"
      },
      "source": [
        "model.fit(patients)"
      ],
      "execution_count": 149,
      "outputs": [
        {
          "output_type": "execute_result",
          "data": {
            "text/plain": [
              "KMeans(algorithm='auto', copy_x=True, init='k-means++', max_iter=300,\n",
              "       n_clusters=4, n_init=10, n_jobs=None, precompute_distances='auto',\n",
              "       random_state=None, tol=0.0001, verbose=0)"
            ]
          },
          "metadata": {
            "tags": []
          },
          "execution_count": 149
        }
      ]
    },
    {
      "cell_type": "markdown",
      "metadata": {
        "id": "BmVbf-3htwNr",
        "colab_type": "text"
      },
      "source": [
        "Attach the labels to the dataframe. Do this by accessing the `labels_` in the `patients_cluster` model and assign them to a new column in `patients` that you will call `labels`."
      ]
    },
    {
      "cell_type": "code",
      "metadata": {
        "id": "a5g--1YQtwNs",
        "colab_type": "code",
        "colab": {}
      },
      "source": [
        "patients[\"labels\"]=model.labels_"
      ],
      "execution_count": 150,
      "outputs": []
    },
    {
      "cell_type": "code",
      "metadata": {
        "id": "V7-CR0JWKZP6",
        "colab_type": "code",
        "colab": {
          "base_uri": "https://localhost:8080/",
          "height": 204
        },
        "outputId": "183ee227-7294-4c52-b768-fada4eb367f6"
      },
      "source": [
        "patients.head()"
      ],
      "execution_count": 151,
      "outputs": [
        {
          "output_type": "execute_result",
          "data": {
            "text/html": [
              "<div>\n",
              "<style scoped>\n",
              "    .dataframe tbody tr th:only-of-type {\n",
              "        vertical-align: middle;\n",
              "    }\n",
              "\n",
              "    .dataframe tbody tr th {\n",
              "        vertical-align: top;\n",
              "    }\n",
              "\n",
              "    .dataframe thead th {\n",
              "        text-align: right;\n",
              "    }\n",
              "</style>\n",
              "<table border=\"1\" class=\"dataframe\">\n",
              "  <thead>\n",
              "    <tr style=\"text-align: right;\">\n",
              "      <th></th>\n",
              "      <th>patient_diabetic</th>\n",
              "      <th>patient_allergic</th>\n",
              "      <th>patient_weight_kg</th>\n",
              "      <th>patient_height_sm</th>\n",
              "      <th>patient_show</th>\n",
              "      <th>is_regular_visit</th>\n",
              "      <th>diagnosis_int</th>\n",
              "      <th>patient_gender_int</th>\n",
              "      <th>labels</th>\n",
              "    </tr>\n",
              "  </thead>\n",
              "  <tbody>\n",
              "    <tr>\n",
              "      <th>0</th>\n",
              "      <td>0</td>\n",
              "      <td>1</td>\n",
              "      <td>59</td>\n",
              "      <td>176</td>\n",
              "      <td>1</td>\n",
              "      <td>1</td>\n",
              "      <td>1</td>\n",
              "      <td>1</td>\n",
              "      <td>0</td>\n",
              "    </tr>\n",
              "    <tr>\n",
              "      <th>1</th>\n",
              "      <td>0</td>\n",
              "      <td>1</td>\n",
              "      <td>77</td>\n",
              "      <td>186</td>\n",
              "      <td>1</td>\n",
              "      <td>1</td>\n",
              "      <td>0</td>\n",
              "      <td>1</td>\n",
              "      <td>0</td>\n",
              "    </tr>\n",
              "    <tr>\n",
              "      <th>2</th>\n",
              "      <td>1</td>\n",
              "      <td>1</td>\n",
              "      <td>90</td>\n",
              "      <td>177</td>\n",
              "      <td>0</td>\n",
              "      <td>0</td>\n",
              "      <td>0</td>\n",
              "      <td>1</td>\n",
              "      <td>1</td>\n",
              "    </tr>\n",
              "    <tr>\n",
              "      <th>3</th>\n",
              "      <td>1</td>\n",
              "      <td>1</td>\n",
              "      <td>70</td>\n",
              "      <td>150</td>\n",
              "      <td>0</td>\n",
              "      <td>1</td>\n",
              "      <td>0</td>\n",
              "      <td>1</td>\n",
              "      <td>2</td>\n",
              "    </tr>\n",
              "    <tr>\n",
              "      <th>4</th>\n",
              "      <td>0</td>\n",
              "      <td>1</td>\n",
              "      <td>82</td>\n",
              "      <td>140</td>\n",
              "      <td>0</td>\n",
              "      <td>0</td>\n",
              "      <td>0</td>\n",
              "      <td>1</td>\n",
              "      <td>3</td>\n",
              "    </tr>\n",
              "  </tbody>\n",
              "</table>\n",
              "</div>"
            ],
            "text/plain": [
              "   patient_diabetic  patient_allergic  ...  patient_gender_int  labels\n",
              "0                 0                 1  ...                   1       0\n",
              "1                 0                 1  ...                   1       0\n",
              "2                 1                 1  ...                   1       1\n",
              "3                 1                 1  ...                   1       2\n",
              "4                 0                 1  ...                   1       3\n",
              "\n",
              "[5 rows x 9 columns]"
            ]
          },
          "metadata": {
            "tags": []
          },
          "execution_count": 151
        }
      ]
    },
    {
      "cell_type": "markdown",
      "metadata": {
        "id": "3F7m8IBStwNw",
        "colab_type": "text"
      },
      "source": [
        "Now using a `groupby`, find the mean of every variable in `patients` and group by the `labels` column. This summary will allow us to see how the patients differ between the clusters. Your output should look similar to the image below.\n",
        "\n",
        "![groupby mean](https://github.com/eduardoheros/lab-sklearn-and-unsupervised-learning/blob/master/groupby-mean.png?raw=1)\n",
        "\n",
        "Additionally, add a comment to describe which columns have the largest difference between clusters."
      ]
    },
    {
      "cell_type": "code",
      "metadata": {
        "id": "2rBlLY9UtwNx",
        "colab_type": "code",
        "colab": {
          "base_uri": "https://localhost:8080/",
          "height": 173
        },
        "outputId": "755d90b5-c4f0-443b-b251-f07ed8118177"
      },
      "source": [
        "patients.groupby(by=\"labels\",as_index=False).mean()"
      ],
      "execution_count": 153,
      "outputs": [
        {
          "output_type": "execute_result",
          "data": {
            "text/html": [
              "<div>\n",
              "<style scoped>\n",
              "    .dataframe tbody tr th:only-of-type {\n",
              "        vertical-align: middle;\n",
              "    }\n",
              "\n",
              "    .dataframe tbody tr th {\n",
              "        vertical-align: top;\n",
              "    }\n",
              "\n",
              "    .dataframe thead th {\n",
              "        text-align: right;\n",
              "    }\n",
              "</style>\n",
              "<table border=\"1\" class=\"dataframe\">\n",
              "  <thead>\n",
              "    <tr style=\"text-align: right;\">\n",
              "      <th></th>\n",
              "      <th>labels</th>\n",
              "      <th>patient_diabetic</th>\n",
              "      <th>patient_allergic</th>\n",
              "      <th>patient_weight_kg</th>\n",
              "      <th>patient_height_sm</th>\n",
              "      <th>patient_show</th>\n",
              "      <th>is_regular_visit</th>\n",
              "      <th>diagnosis_int</th>\n",
              "      <th>patient_gender_int</th>\n",
              "    </tr>\n",
              "  </thead>\n",
              "  <tbody>\n",
              "    <tr>\n",
              "      <th>0</th>\n",
              "      <td>0</td>\n",
              "      <td>0.510460</td>\n",
              "      <td>0.531381</td>\n",
              "      <td>62.832636</td>\n",
              "      <td>176.995816</td>\n",
              "      <td>0.472803</td>\n",
              "      <td>0.497908</td>\n",
              "      <td>0.451883</td>\n",
              "      <td>1.0</td>\n",
              "    </tr>\n",
              "    <tr>\n",
              "      <th>1</th>\n",
              "      <td>1</td>\n",
              "      <td>0.490119</td>\n",
              "      <td>0.490119</td>\n",
              "      <td>94.003953</td>\n",
              "      <td>178.640316</td>\n",
              "      <td>0.505929</td>\n",
              "      <td>0.529644</td>\n",
              "      <td>0.513834</td>\n",
              "      <td>1.0</td>\n",
              "    </tr>\n",
              "    <tr>\n",
              "      <th>2</th>\n",
              "      <td>2</td>\n",
              "      <td>0.506494</td>\n",
              "      <td>0.493506</td>\n",
              "      <td>65.432900</td>\n",
              "      <td>152.354978</td>\n",
              "      <td>0.510823</td>\n",
              "      <td>0.558442</td>\n",
              "      <td>0.506494</td>\n",
              "      <td>1.0</td>\n",
              "    </tr>\n",
              "    <tr>\n",
              "      <th>3</th>\n",
              "      <td>3</td>\n",
              "      <td>0.552511</td>\n",
              "      <td>0.525114</td>\n",
              "      <td>97.557078</td>\n",
              "      <td>153.319635</td>\n",
              "      <td>0.488584</td>\n",
              "      <td>0.502283</td>\n",
              "      <td>0.593607</td>\n",
              "      <td>1.0</td>\n",
              "    </tr>\n",
              "  </tbody>\n",
              "</table>\n",
              "</div>"
            ],
            "text/plain": [
              "   labels  patient_diabetic  ...  diagnosis_int  patient_gender_int\n",
              "0       0          0.510460  ...       0.451883                 1.0\n",
              "1       1          0.490119  ...       0.513834                 1.0\n",
              "2       2          0.506494  ...       0.506494                 1.0\n",
              "3       3          0.552511  ...       0.593607                 1.0\n",
              "\n",
              "[4 rows x 9 columns]"
            ]
          },
          "metadata": {
            "tags": []
          },
          "execution_count": 153
        }
      ]
    },
    {
      "cell_type": "code",
      "metadata": {
        "id": "Be6CYjiBtwNz",
        "colab_type": "code",
        "colab": {}
      },
      "source": [
        "#Se observa diferencias en porcentaje de pacientes diabéticos, en peso y altura, el proceso podría mejorar"
      ],
      "execution_count": 154,
      "outputs": []
    },
    {
      "cell_type": "markdown",
      "metadata": {
        "id": "j_jrus_QtwN1",
        "colab_type": "text"
      },
      "source": [
        "# Bonus Challenge: Visualize K-Means Clusters\n",
        "\n",
        "How did k-means cluster the data? You can obtain an intuitive view with a scatter plot. Generate a 2-d cluster plot below using `matplotlib`. You need to choose 2 of the features from your cleaned and transformed dataset, and use color to represent the cluster label generated from k-means.\n",
        "\n",
        "If the scatter plot does not make any sense to you, it means the features you chose to visualize are not the right ones. You should be able to see 4 clear clusters with different colors in your visualization that suggests how k-means had clustered your data.\n",
        "\n",
        "![Cluster Visualization](https://github.com/eduardoheros/lab-sklearn-and-unsupervised-learning/blob/master/clusters.png?raw=1)"
      ]
    },
    {
      "cell_type": "code",
      "metadata": {
        "id": "pKz_ZNrTtwN1",
        "colab_type": "code",
        "colab": {}
      },
      "source": [
        "# Your code here:\n"
      ],
      "execution_count": null,
      "outputs": []
    },
    {
      "cell_type": "markdown",
      "metadata": {
        "id": "kVv5quqttwN5",
        "colab_type": "text"
      },
      "source": [
        "Additionally, you can visualize the clusters in 3-D scatter plot. Give it a try below."
      ]
    },
    {
      "cell_type": "code",
      "metadata": {
        "id": "sJ72HpBctwN5",
        "colab_type": "code",
        "colab": {}
      },
      "source": [
        "# Your code here:\n"
      ],
      "execution_count": null,
      "outputs": []
    }
  ]
}